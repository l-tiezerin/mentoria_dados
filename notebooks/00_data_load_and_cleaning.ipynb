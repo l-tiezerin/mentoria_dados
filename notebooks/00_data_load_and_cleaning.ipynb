{
 "cells": [
  {
   "cell_type": "markdown",
   "id": "4d9cce96",
   "metadata": {},
   "source": [
    "# Mapeamento e limpeza da base"
   ]
  },
  {
   "cell_type": "code",
   "execution_count": 10,
   "id": "814b3772",
   "metadata": {},
   "outputs": [
    {
     "data": {
      "application/vnd.microsoft.datawrangler.viewer.v0+json": {
       "columns": [
        {
         "name": "index",
         "rawType": "int64",
         "type": "integer"
        },
        {
         "name": "Customer ID",
         "rawType": "object",
         "type": "string"
        },
        {
         "name": "Gender",
         "rawType": "object",
         "type": "string"
        },
        {
         "name": "Age",
         "rawType": "int64",
         "type": "integer"
        },
        {
         "name": "Married",
         "rawType": "object",
         "type": "string"
        },
        {
         "name": "Number of Dependents",
         "rawType": "int64",
         "type": "integer"
        },
        {
         "name": "City",
         "rawType": "object",
         "type": "string"
        },
        {
         "name": "Zip Code",
         "rawType": "int64",
         "type": "integer"
        },
        {
         "name": "Latitude",
         "rawType": "float64",
         "type": "float"
        },
        {
         "name": "Longitude",
         "rawType": "float64",
         "type": "float"
        },
        {
         "name": "Number of Referrals",
         "rawType": "int64",
         "type": "integer"
        },
        {
         "name": "Tenure in Months",
         "rawType": "int64",
         "type": "integer"
        },
        {
         "name": "Offer",
         "rawType": "object",
         "type": "unknown"
        },
        {
         "name": "Phone Service",
         "rawType": "object",
         "type": "string"
        },
        {
         "name": "Avg Monthly Long Distance Charges",
         "rawType": "float64",
         "type": "float"
        },
        {
         "name": "Multiple Lines",
         "rawType": "object",
         "type": "string"
        },
        {
         "name": "Internet Service",
         "rawType": "object",
         "type": "string"
        },
        {
         "name": "Internet Type",
         "rawType": "object",
         "type": "string"
        },
        {
         "name": "Avg Monthly GB Download",
         "rawType": "float64",
         "type": "float"
        },
        {
         "name": "Online Security",
         "rawType": "object",
         "type": "string"
        },
        {
         "name": "Online Backup",
         "rawType": "object",
         "type": "string"
        },
        {
         "name": "Device Protection Plan",
         "rawType": "object",
         "type": "string"
        },
        {
         "name": "Premium Tech Support",
         "rawType": "object",
         "type": "string"
        },
        {
         "name": "Streaming TV",
         "rawType": "object",
         "type": "string"
        },
        {
         "name": "Streaming Movies",
         "rawType": "object",
         "type": "string"
        },
        {
         "name": "Streaming Music",
         "rawType": "object",
         "type": "string"
        },
        {
         "name": "Unlimited Data",
         "rawType": "object",
         "type": "string"
        },
        {
         "name": "Contract",
         "rawType": "object",
         "type": "string"
        },
        {
         "name": "Paperless Billing",
         "rawType": "object",
         "type": "string"
        },
        {
         "name": "Payment Method",
         "rawType": "object",
         "type": "string"
        },
        {
         "name": "Monthly Charge",
         "rawType": "float64",
         "type": "float"
        },
        {
         "name": "Total Charges",
         "rawType": "float64",
         "type": "float"
        },
        {
         "name": "Total Refunds",
         "rawType": "float64",
         "type": "float"
        },
        {
         "name": "Total Extra Data Charges",
         "rawType": "int64",
         "type": "integer"
        },
        {
         "name": "Total Long Distance Charges",
         "rawType": "float64",
         "type": "float"
        },
        {
         "name": "Total Revenue",
         "rawType": "float64",
         "type": "float"
        },
        {
         "name": "Customer Status",
         "rawType": "object",
         "type": "string"
        },
        {
         "name": "Churn Category",
         "rawType": "object",
         "type": "unknown"
        },
        {
         "name": "Churn Reason",
         "rawType": "object",
         "type": "unknown"
        }
       ],
       "ref": "b8d9fdb2-5d5e-4572-9f04-b305f76a276a",
       "rows": [
        [
         "0",
         "0002-ORFBO",
         "Female",
         "37",
         "Yes",
         "0",
         "Frazier Park",
         "93225",
         "34.827662",
         "-118.999073",
         "2",
         "9",
         null,
         "Yes",
         "42.39",
         "No",
         "Yes",
         "Cable",
         "16.0",
         "No",
         "Yes",
         "No",
         "Yes",
         "Yes",
         "No",
         "No",
         "Yes",
         "One Year",
         "Yes",
         "Credit Card",
         "65.6",
         "593.3",
         "0.0",
         "0",
         "381.51",
         "974.81",
         "Stayed",
         null,
         null
        ],
        [
         "1",
         "0003-MKNFE",
         "Male",
         "46",
         "No",
         "0",
         "Glendale",
         "91206",
         "34.162515",
         "-118.203869",
         "0",
         "9",
         null,
         "Yes",
         "10.69",
         "Yes",
         "Yes",
         "Cable",
         "10.0",
         "No",
         "No",
         "No",
         "No",
         "No",
         "Yes",
         "Yes",
         "No",
         "Month-to-Month",
         "No",
         "Credit Card",
         "-4.0",
         "542.4",
         "38.33",
         "10",
         "96.21",
         "610.28",
         "Stayed",
         null,
         null
        ],
        [
         "2",
         "0004-TLHLJ",
         "Male",
         "50",
         "No",
         "0",
         "Costa Mesa",
         "92627",
         "33.645672",
         "-117.922613",
         "0",
         "4",
         "Offer E",
         "Yes",
         "33.65",
         "No",
         "Yes",
         "Fiber Optic",
         "30.0",
         "No",
         "No",
         "Yes",
         "No",
         "No",
         "No",
         "No",
         "Yes",
         "Month-to-Month",
         "Yes",
         "Bank Withdrawal",
         "73.9",
         "280.85",
         "0.0",
         "0",
         "134.6",
         "415.45",
         "Churned",
         "Competitor",
         "Competitor had better devices"
        ],
        [
         "3",
         "0011-IGKFF",
         "Male",
         "78",
         "Yes",
         "0",
         "Martinez",
         "94553",
         "38.014457",
         "-122.115432",
         "1",
         "13",
         "Offer D",
         "Yes",
         "27.82",
         "No",
         "Yes",
         "Fiber Optic",
         "4.0",
         "No",
         "Yes",
         "Yes",
         "No",
         "Yes",
         "Yes",
         "No",
         "Yes",
         "Month-to-Month",
         "Yes",
         "Bank Withdrawal",
         "98.0",
         "1237.85",
         "0.0",
         "0",
         "361.66",
         "1599.51",
         "Churned",
         "Dissatisfaction",
         "Product dissatisfaction"
        ],
        [
         "4",
         "0013-EXCHZ",
         "Female",
         "75",
         "Yes",
         "0",
         "Camarillo",
         "93010",
         "34.227846",
         "-119.079903",
         "3",
         "3",
         null,
         "Yes",
         "7.38",
         "No",
         "Yes",
         "Fiber Optic",
         "11.0",
         "No",
         "No",
         "No",
         "Yes",
         "Yes",
         "No",
         "No",
         "Yes",
         "Month-to-Month",
         "Yes",
         "Credit Card",
         "83.9",
         "267.4",
         "0.0",
         "0",
         "22.14",
         "289.54",
         "Churned",
         "Dissatisfaction",
         "Network reliability"
        ]
       ],
       "shape": {
        "columns": 38,
        "rows": 5
       }
      },
      "text/html": [
       "<div>\n",
       "<style scoped>\n",
       "    .dataframe tbody tr th:only-of-type {\n",
       "        vertical-align: middle;\n",
       "    }\n",
       "\n",
       "    .dataframe tbody tr th {\n",
       "        vertical-align: top;\n",
       "    }\n",
       "\n",
       "    .dataframe thead th {\n",
       "        text-align: right;\n",
       "    }\n",
       "</style>\n",
       "<table border=\"1\" class=\"dataframe\">\n",
       "  <thead>\n",
       "    <tr style=\"text-align: right;\">\n",
       "      <th></th>\n",
       "      <th>Customer ID</th>\n",
       "      <th>Gender</th>\n",
       "      <th>Age</th>\n",
       "      <th>Married</th>\n",
       "      <th>Number of Dependents</th>\n",
       "      <th>City</th>\n",
       "      <th>Zip Code</th>\n",
       "      <th>Latitude</th>\n",
       "      <th>Longitude</th>\n",
       "      <th>Number of Referrals</th>\n",
       "      <th>Tenure in Months</th>\n",
       "      <th>Offer</th>\n",
       "      <th>Phone Service</th>\n",
       "      <th>Avg Monthly Long Distance Charges</th>\n",
       "      <th>Multiple Lines</th>\n",
       "      <th>Internet Service</th>\n",
       "      <th>Internet Type</th>\n",
       "      <th>Avg Monthly GB Download</th>\n",
       "      <th>Online Security</th>\n",
       "      <th>Online Backup</th>\n",
       "      <th>Device Protection Plan</th>\n",
       "      <th>Premium Tech Support</th>\n",
       "      <th>Streaming TV</th>\n",
       "      <th>Streaming Movies</th>\n",
       "      <th>Streaming Music</th>\n",
       "      <th>Unlimited Data</th>\n",
       "      <th>Contract</th>\n",
       "      <th>Paperless Billing</th>\n",
       "      <th>Payment Method</th>\n",
       "      <th>Monthly Charge</th>\n",
       "      <th>Total Charges</th>\n",
       "      <th>Total Refunds</th>\n",
       "      <th>Total Extra Data Charges</th>\n",
       "      <th>Total Long Distance Charges</th>\n",
       "      <th>Total Revenue</th>\n",
       "      <th>Customer Status</th>\n",
       "      <th>Churn Category</th>\n",
       "      <th>Churn Reason</th>\n",
       "    </tr>\n",
       "  </thead>\n",
       "  <tbody>\n",
       "    <tr>\n",
       "      <th>0</th>\n",
       "      <td>0002-ORFBO</td>\n",
       "      <td>Female</td>\n",
       "      <td>37</td>\n",
       "      <td>Yes</td>\n",
       "      <td>0</td>\n",
       "      <td>Frazier Park</td>\n",
       "      <td>93225</td>\n",
       "      <td>34.827662</td>\n",
       "      <td>-118.999073</td>\n",
       "      <td>2</td>\n",
       "      <td>9</td>\n",
       "      <td>NaN</td>\n",
       "      <td>Yes</td>\n",
       "      <td>42.39</td>\n",
       "      <td>No</td>\n",
       "      <td>Yes</td>\n",
       "      <td>Cable</td>\n",
       "      <td>16.0</td>\n",
       "      <td>No</td>\n",
       "      <td>Yes</td>\n",
       "      <td>No</td>\n",
       "      <td>Yes</td>\n",
       "      <td>Yes</td>\n",
       "      <td>No</td>\n",
       "      <td>No</td>\n",
       "      <td>Yes</td>\n",
       "      <td>One Year</td>\n",
       "      <td>Yes</td>\n",
       "      <td>Credit Card</td>\n",
       "      <td>65.6</td>\n",
       "      <td>593.30</td>\n",
       "      <td>0.00</td>\n",
       "      <td>0</td>\n",
       "      <td>381.51</td>\n",
       "      <td>974.81</td>\n",
       "      <td>Stayed</td>\n",
       "      <td>NaN</td>\n",
       "      <td>NaN</td>\n",
       "    </tr>\n",
       "    <tr>\n",
       "      <th>1</th>\n",
       "      <td>0003-MKNFE</td>\n",
       "      <td>Male</td>\n",
       "      <td>46</td>\n",
       "      <td>No</td>\n",
       "      <td>0</td>\n",
       "      <td>Glendale</td>\n",
       "      <td>91206</td>\n",
       "      <td>34.162515</td>\n",
       "      <td>-118.203869</td>\n",
       "      <td>0</td>\n",
       "      <td>9</td>\n",
       "      <td>NaN</td>\n",
       "      <td>Yes</td>\n",
       "      <td>10.69</td>\n",
       "      <td>Yes</td>\n",
       "      <td>Yes</td>\n",
       "      <td>Cable</td>\n",
       "      <td>10.0</td>\n",
       "      <td>No</td>\n",
       "      <td>No</td>\n",
       "      <td>No</td>\n",
       "      <td>No</td>\n",
       "      <td>No</td>\n",
       "      <td>Yes</td>\n",
       "      <td>Yes</td>\n",
       "      <td>No</td>\n",
       "      <td>Month-to-Month</td>\n",
       "      <td>No</td>\n",
       "      <td>Credit Card</td>\n",
       "      <td>-4.0</td>\n",
       "      <td>542.40</td>\n",
       "      <td>38.33</td>\n",
       "      <td>10</td>\n",
       "      <td>96.21</td>\n",
       "      <td>610.28</td>\n",
       "      <td>Stayed</td>\n",
       "      <td>NaN</td>\n",
       "      <td>NaN</td>\n",
       "    </tr>\n",
       "    <tr>\n",
       "      <th>2</th>\n",
       "      <td>0004-TLHLJ</td>\n",
       "      <td>Male</td>\n",
       "      <td>50</td>\n",
       "      <td>No</td>\n",
       "      <td>0</td>\n",
       "      <td>Costa Mesa</td>\n",
       "      <td>92627</td>\n",
       "      <td>33.645672</td>\n",
       "      <td>-117.922613</td>\n",
       "      <td>0</td>\n",
       "      <td>4</td>\n",
       "      <td>Offer E</td>\n",
       "      <td>Yes</td>\n",
       "      <td>33.65</td>\n",
       "      <td>No</td>\n",
       "      <td>Yes</td>\n",
       "      <td>Fiber Optic</td>\n",
       "      <td>30.0</td>\n",
       "      <td>No</td>\n",
       "      <td>No</td>\n",
       "      <td>Yes</td>\n",
       "      <td>No</td>\n",
       "      <td>No</td>\n",
       "      <td>No</td>\n",
       "      <td>No</td>\n",
       "      <td>Yes</td>\n",
       "      <td>Month-to-Month</td>\n",
       "      <td>Yes</td>\n",
       "      <td>Bank Withdrawal</td>\n",
       "      <td>73.9</td>\n",
       "      <td>280.85</td>\n",
       "      <td>0.00</td>\n",
       "      <td>0</td>\n",
       "      <td>134.60</td>\n",
       "      <td>415.45</td>\n",
       "      <td>Churned</td>\n",
       "      <td>Competitor</td>\n",
       "      <td>Competitor had better devices</td>\n",
       "    </tr>\n",
       "    <tr>\n",
       "      <th>3</th>\n",
       "      <td>0011-IGKFF</td>\n",
       "      <td>Male</td>\n",
       "      <td>78</td>\n",
       "      <td>Yes</td>\n",
       "      <td>0</td>\n",
       "      <td>Martinez</td>\n",
       "      <td>94553</td>\n",
       "      <td>38.014457</td>\n",
       "      <td>-122.115432</td>\n",
       "      <td>1</td>\n",
       "      <td>13</td>\n",
       "      <td>Offer D</td>\n",
       "      <td>Yes</td>\n",
       "      <td>27.82</td>\n",
       "      <td>No</td>\n",
       "      <td>Yes</td>\n",
       "      <td>Fiber Optic</td>\n",
       "      <td>4.0</td>\n",
       "      <td>No</td>\n",
       "      <td>Yes</td>\n",
       "      <td>Yes</td>\n",
       "      <td>No</td>\n",
       "      <td>Yes</td>\n",
       "      <td>Yes</td>\n",
       "      <td>No</td>\n",
       "      <td>Yes</td>\n",
       "      <td>Month-to-Month</td>\n",
       "      <td>Yes</td>\n",
       "      <td>Bank Withdrawal</td>\n",
       "      <td>98.0</td>\n",
       "      <td>1237.85</td>\n",
       "      <td>0.00</td>\n",
       "      <td>0</td>\n",
       "      <td>361.66</td>\n",
       "      <td>1599.51</td>\n",
       "      <td>Churned</td>\n",
       "      <td>Dissatisfaction</td>\n",
       "      <td>Product dissatisfaction</td>\n",
       "    </tr>\n",
       "    <tr>\n",
       "      <th>4</th>\n",
       "      <td>0013-EXCHZ</td>\n",
       "      <td>Female</td>\n",
       "      <td>75</td>\n",
       "      <td>Yes</td>\n",
       "      <td>0</td>\n",
       "      <td>Camarillo</td>\n",
       "      <td>93010</td>\n",
       "      <td>34.227846</td>\n",
       "      <td>-119.079903</td>\n",
       "      <td>3</td>\n",
       "      <td>3</td>\n",
       "      <td>NaN</td>\n",
       "      <td>Yes</td>\n",
       "      <td>7.38</td>\n",
       "      <td>No</td>\n",
       "      <td>Yes</td>\n",
       "      <td>Fiber Optic</td>\n",
       "      <td>11.0</td>\n",
       "      <td>No</td>\n",
       "      <td>No</td>\n",
       "      <td>No</td>\n",
       "      <td>Yes</td>\n",
       "      <td>Yes</td>\n",
       "      <td>No</td>\n",
       "      <td>No</td>\n",
       "      <td>Yes</td>\n",
       "      <td>Month-to-Month</td>\n",
       "      <td>Yes</td>\n",
       "      <td>Credit Card</td>\n",
       "      <td>83.9</td>\n",
       "      <td>267.40</td>\n",
       "      <td>0.00</td>\n",
       "      <td>0</td>\n",
       "      <td>22.14</td>\n",
       "      <td>289.54</td>\n",
       "      <td>Churned</td>\n",
       "      <td>Dissatisfaction</td>\n",
       "      <td>Network reliability</td>\n",
       "    </tr>\n",
       "  </tbody>\n",
       "</table>\n",
       "</div>"
      ],
      "text/plain": [
       "  Customer ID  Gender  Age Married  Number of Dependents          City  \\\n",
       "0  0002-ORFBO  Female   37     Yes                     0  Frazier Park   \n",
       "1  0003-MKNFE    Male   46      No                     0      Glendale   \n",
       "2  0004-TLHLJ    Male   50      No                     0    Costa Mesa   \n",
       "3  0011-IGKFF    Male   78     Yes                     0      Martinez   \n",
       "4  0013-EXCHZ  Female   75     Yes                     0     Camarillo   \n",
       "\n",
       "   Zip Code   Latitude   Longitude  Number of Referrals  Tenure in Months  \\\n",
       "0     93225  34.827662 -118.999073                    2                 9   \n",
       "1     91206  34.162515 -118.203869                    0                 9   \n",
       "2     92627  33.645672 -117.922613                    0                 4   \n",
       "3     94553  38.014457 -122.115432                    1                13   \n",
       "4     93010  34.227846 -119.079903                    3                 3   \n",
       "\n",
       "     Offer Phone Service  Avg Monthly Long Distance Charges Multiple Lines  \\\n",
       "0      NaN           Yes                              42.39             No   \n",
       "1      NaN           Yes                              10.69            Yes   \n",
       "2  Offer E           Yes                              33.65             No   \n",
       "3  Offer D           Yes                              27.82             No   \n",
       "4      NaN           Yes                               7.38             No   \n",
       "\n",
       "  Internet Service Internet Type  Avg Monthly GB Download Online Security  \\\n",
       "0              Yes         Cable                     16.0              No   \n",
       "1              Yes         Cable                     10.0              No   \n",
       "2              Yes   Fiber Optic                     30.0              No   \n",
       "3              Yes   Fiber Optic                      4.0              No   \n",
       "4              Yes   Fiber Optic                     11.0              No   \n",
       "\n",
       "  Online Backup Device Protection Plan Premium Tech Support Streaming TV  \\\n",
       "0           Yes                     No                  Yes          Yes   \n",
       "1            No                     No                   No           No   \n",
       "2            No                    Yes                   No           No   \n",
       "3           Yes                    Yes                   No          Yes   \n",
       "4            No                     No                  Yes          Yes   \n",
       "\n",
       "  Streaming Movies Streaming Music Unlimited Data        Contract  \\\n",
       "0               No              No            Yes        One Year   \n",
       "1              Yes             Yes             No  Month-to-Month   \n",
       "2               No              No            Yes  Month-to-Month   \n",
       "3              Yes              No            Yes  Month-to-Month   \n",
       "4               No              No            Yes  Month-to-Month   \n",
       "\n",
       "  Paperless Billing   Payment Method  Monthly Charge  Total Charges  \\\n",
       "0               Yes      Credit Card            65.6         593.30   \n",
       "1                No      Credit Card            -4.0         542.40   \n",
       "2               Yes  Bank Withdrawal            73.9         280.85   \n",
       "3               Yes  Bank Withdrawal            98.0        1237.85   \n",
       "4               Yes      Credit Card            83.9         267.40   \n",
       "\n",
       "   Total Refunds  Total Extra Data Charges  Total Long Distance Charges  \\\n",
       "0           0.00                         0                       381.51   \n",
       "1          38.33                        10                        96.21   \n",
       "2           0.00                         0                       134.60   \n",
       "3           0.00                         0                       361.66   \n",
       "4           0.00                         0                        22.14   \n",
       "\n",
       "   Total Revenue Customer Status   Churn Category  \\\n",
       "0         974.81          Stayed              NaN   \n",
       "1         610.28          Stayed              NaN   \n",
       "2         415.45         Churned       Competitor   \n",
       "3        1599.51         Churned  Dissatisfaction   \n",
       "4         289.54         Churned  Dissatisfaction   \n",
       "\n",
       "                    Churn Reason  \n",
       "0                            NaN  \n",
       "1                            NaN  \n",
       "2  Competitor had better devices  \n",
       "3        Product dissatisfaction  \n",
       "4            Network reliability  "
      ]
     },
     "execution_count": 10,
     "metadata": {},
     "output_type": "execute_result"
    }
   ],
   "source": [
    "import pandas as pd\n",
    "\n",
    "pd.set_option('display.max_columns', None)\n",
    "\n",
    "df = pd.read_csv('../data_tables/telecom_customer_churn.csv')\n",
    "df.head()"
   ]
  },
  {
   "cell_type": "code",
   "execution_count": 11,
   "id": "82512c2e",
   "metadata": {},
   "outputs": [
    {
     "name": "stdout",
     "output_type": "stream",
     "text": [
      "<class 'pandas.core.frame.DataFrame'>\n",
      "RangeIndex: 7043 entries, 0 to 7042\n",
      "Data columns (total 38 columns):\n",
      " #   Column                             Non-Null Count  Dtype  \n",
      "---  ------                             --------------  -----  \n",
      " 0   Customer ID                        7043 non-null   object \n",
      " 1   Gender                             7043 non-null   object \n",
      " 2   Age                                7043 non-null   int64  \n",
      " 3   Married                            7043 non-null   object \n",
      " 4   Number of Dependents               7043 non-null   int64  \n",
      " 5   City                               7043 non-null   object \n",
      " 6   Zip Code                           7043 non-null   int64  \n",
      " 7   Latitude                           7043 non-null   float64\n",
      " 8   Longitude                          7043 non-null   float64\n",
      " 9   Number of Referrals                7043 non-null   int64  \n",
      " 10  Tenure in Months                   7043 non-null   int64  \n",
      " 11  Offer                              3166 non-null   object \n",
      " 12  Phone Service                      7043 non-null   object \n",
      " 13  Avg Monthly Long Distance Charges  6361 non-null   float64\n",
      " 14  Multiple Lines                     6361 non-null   object \n",
      " 15  Internet Service                   7043 non-null   object \n",
      " 16  Internet Type                      5517 non-null   object \n",
      " 17  Avg Monthly GB Download            5517 non-null   float64\n",
      " 18  Online Security                    5517 non-null   object \n",
      " 19  Online Backup                      5517 non-null   object \n",
      " 20  Device Protection Plan             5517 non-null   object \n",
      " 21  Premium Tech Support               5517 non-null   object \n",
      " 22  Streaming TV                       5517 non-null   object \n",
      " 23  Streaming Movies                   5517 non-null   object \n",
      " 24  Streaming Music                    5517 non-null   object \n",
      " 25  Unlimited Data                     5517 non-null   object \n",
      " 26  Contract                           7043 non-null   object \n",
      " 27  Paperless Billing                  7043 non-null   object \n",
      " 28  Payment Method                     7043 non-null   object \n",
      " 29  Monthly Charge                     7043 non-null   float64\n",
      " 30  Total Charges                      7043 non-null   float64\n",
      " 31  Total Refunds                      7043 non-null   float64\n",
      " 32  Total Extra Data Charges           7043 non-null   int64  \n",
      " 33  Total Long Distance Charges        7043 non-null   float64\n",
      " 34  Total Revenue                      7043 non-null   float64\n",
      " 35  Customer Status                    7043 non-null   object \n",
      " 36  Churn Category                     1869 non-null   object \n",
      " 37  Churn Reason                       1869 non-null   object \n",
      "dtypes: float64(9), int64(6), object(23)\n",
      "memory usage: 2.0+ MB\n"
     ]
    }
   ],
   "source": [
    "df.info()"
   ]
  },
  {
   "cell_type": "code",
   "execution_count": 12,
   "id": "1db94874",
   "metadata": {},
   "outputs": [
    {
     "data": {
      "application/vnd.microsoft.datawrangler.viewer.v0+json": {
       "columns": [
        {
         "name": "index",
         "rawType": "int64",
         "type": "integer"
        },
        {
         "name": "Customer ID",
         "rawType": "object",
         "type": "string"
        },
        {
         "name": "Gender",
         "rawType": "object",
         "type": "string"
        },
        {
         "name": "Age",
         "rawType": "int64",
         "type": "integer"
        },
        {
         "name": "Married",
         "rawType": "object",
         "type": "string"
        },
        {
         "name": "Number of Dependents",
         "rawType": "int64",
         "type": "integer"
        },
        {
         "name": "City",
         "rawType": "object",
         "type": "string"
        },
        {
         "name": "Zip Code",
         "rawType": "int64",
         "type": "integer"
        },
        {
         "name": "Latitude",
         "rawType": "float64",
         "type": "float"
        },
        {
         "name": "Longitude",
         "rawType": "float64",
         "type": "float"
        },
        {
         "name": "Number of Referrals",
         "rawType": "int64",
         "type": "integer"
        },
        {
         "name": "Tenure in Months",
         "rawType": "int64",
         "type": "integer"
        },
        {
         "name": "Offer",
         "rawType": "object",
         "type": "string"
        },
        {
         "name": "Phone Service",
         "rawType": "object",
         "type": "string"
        },
        {
         "name": "Avg Monthly Long Distance Charges",
         "rawType": "float64",
         "type": "float"
        },
        {
         "name": "Multiple Lines",
         "rawType": "object",
         "type": "string"
        },
        {
         "name": "Internet Service",
         "rawType": "object",
         "type": "string"
        },
        {
         "name": "Internet Type",
         "rawType": "object",
         "type": "string"
        },
        {
         "name": "Avg Monthly GB Download",
         "rawType": "float64",
         "type": "float"
        },
        {
         "name": "Online Security",
         "rawType": "object",
         "type": "string"
        },
        {
         "name": "Online Backup",
         "rawType": "object",
         "type": "string"
        },
        {
         "name": "Device Protection Plan",
         "rawType": "object",
         "type": "string"
        },
        {
         "name": "Premium Tech Support",
         "rawType": "object",
         "type": "string"
        },
        {
         "name": "Streaming TV",
         "rawType": "object",
         "type": "string"
        },
        {
         "name": "Streaming Movies",
         "rawType": "object",
         "type": "string"
        },
        {
         "name": "Streaming Music",
         "rawType": "object",
         "type": "string"
        },
        {
         "name": "Unlimited Data",
         "rawType": "object",
         "type": "string"
        },
        {
         "name": "Contract",
         "rawType": "object",
         "type": "string"
        },
        {
         "name": "Paperless Billing",
         "rawType": "object",
         "type": "string"
        },
        {
         "name": "Payment Method",
         "rawType": "object",
         "type": "string"
        },
        {
         "name": "Monthly Charge",
         "rawType": "float64",
         "type": "float"
        },
        {
         "name": "Total Charges",
         "rawType": "float64",
         "type": "float"
        },
        {
         "name": "Total Refunds",
         "rawType": "float64",
         "type": "float"
        },
        {
         "name": "Total Extra Data Charges",
         "rawType": "int64",
         "type": "integer"
        },
        {
         "name": "Total Long Distance Charges",
         "rawType": "float64",
         "type": "float"
        },
        {
         "name": "Total Revenue",
         "rawType": "float64",
         "type": "float"
        },
        {
         "name": "Customer Status",
         "rawType": "object",
         "type": "string"
        },
        {
         "name": "Churn Category",
         "rawType": "object",
         "type": "string"
        },
        {
         "name": "Churn Reason",
         "rawType": "object",
         "type": "string"
        }
       ],
       "ref": "abeb19a1-d2c7-40db-930d-cc884b8c9158",
       "rows": [],
       "shape": {
        "columns": 38,
        "rows": 0
       }
      },
      "text/html": [
       "<div>\n",
       "<style scoped>\n",
       "    .dataframe tbody tr th:only-of-type {\n",
       "        vertical-align: middle;\n",
       "    }\n",
       "\n",
       "    .dataframe tbody tr th {\n",
       "        vertical-align: top;\n",
       "    }\n",
       "\n",
       "    .dataframe thead th {\n",
       "        text-align: right;\n",
       "    }\n",
       "</style>\n",
       "<table border=\"1\" class=\"dataframe\">\n",
       "  <thead>\n",
       "    <tr style=\"text-align: right;\">\n",
       "      <th></th>\n",
       "      <th>Customer ID</th>\n",
       "      <th>Gender</th>\n",
       "      <th>Age</th>\n",
       "      <th>Married</th>\n",
       "      <th>Number of Dependents</th>\n",
       "      <th>City</th>\n",
       "      <th>Zip Code</th>\n",
       "      <th>Latitude</th>\n",
       "      <th>Longitude</th>\n",
       "      <th>Number of Referrals</th>\n",
       "      <th>Tenure in Months</th>\n",
       "      <th>Offer</th>\n",
       "      <th>Phone Service</th>\n",
       "      <th>Avg Monthly Long Distance Charges</th>\n",
       "      <th>Multiple Lines</th>\n",
       "      <th>Internet Service</th>\n",
       "      <th>Internet Type</th>\n",
       "      <th>Avg Monthly GB Download</th>\n",
       "      <th>Online Security</th>\n",
       "      <th>Online Backup</th>\n",
       "      <th>Device Protection Plan</th>\n",
       "      <th>Premium Tech Support</th>\n",
       "      <th>Streaming TV</th>\n",
       "      <th>Streaming Movies</th>\n",
       "      <th>Streaming Music</th>\n",
       "      <th>Unlimited Data</th>\n",
       "      <th>Contract</th>\n",
       "      <th>Paperless Billing</th>\n",
       "      <th>Payment Method</th>\n",
       "      <th>Monthly Charge</th>\n",
       "      <th>Total Charges</th>\n",
       "      <th>Total Refunds</th>\n",
       "      <th>Total Extra Data Charges</th>\n",
       "      <th>Total Long Distance Charges</th>\n",
       "      <th>Total Revenue</th>\n",
       "      <th>Customer Status</th>\n",
       "      <th>Churn Category</th>\n",
       "      <th>Churn Reason</th>\n",
       "    </tr>\n",
       "  </thead>\n",
       "  <tbody>\n",
       "  </tbody>\n",
       "</table>\n",
       "</div>"
      ],
      "text/plain": [
       "Empty DataFrame\n",
       "Columns: [Customer ID, Gender, Age, Married, Number of Dependents, City, Zip Code, Latitude, Longitude, Number of Referrals, Tenure in Months, Offer, Phone Service, Avg Monthly Long Distance Charges, Multiple Lines, Internet Service, Internet Type, Avg Monthly GB Download, Online Security, Online Backup, Device Protection Plan, Premium Tech Support, Streaming TV, Streaming Movies, Streaming Music, Unlimited Data, Contract, Paperless Billing, Payment Method, Monthly Charge, Total Charges, Total Refunds, Total Extra Data Charges, Total Long Distance Charges, Total Revenue, Customer Status, Churn Category, Churn Reason]\n",
       "Index: []"
      ]
     },
     "execution_count": 12,
     "metadata": {},
     "output_type": "execute_result"
    }
   ],
   "source": [
    "# tem linhas duplicadas?\n",
    "df[df.duplicated()]"
   ]
  },
  {
   "cell_type": "code",
   "execution_count": 13,
   "id": "d0f0eedc",
   "metadata": {},
   "outputs": [
    {
     "data": {
      "text/plain": [
       "np.int64(0)"
      ]
     },
     "execution_count": 13,
     "metadata": {},
     "output_type": "execute_result"
    }
   ],
   "source": [
    "# tem clientes duplicados?\n",
    "df['Customer ID'].duplicated().sum()"
   ]
  },
  {
   "cell_type": "code",
   "execution_count": 14,
   "id": "bb7d60c9",
   "metadata": {},
   "outputs": [],
   "source": [
    "# não preciso dessa coluna\n",
    "df = df.drop('Customer ID', axis=1)"
   ]
  },
  {
   "cell_type": "code",
   "execution_count": 15,
   "id": "7066635f",
   "metadata": {},
   "outputs": [
    {
     "name": "stdout",
     "output_type": "stream",
     "text": [
      "Cardinality by column:\n",
      "\n",
      "Gender: 2\n",
      "Married: 2\n",
      "City: 1106\n",
      "Offer: 5\n",
      "Phone Service: 2\n",
      "Multiple Lines: 2\n",
      "Internet Service: 2\n",
      "Internet Type: 3\n",
      "Online Security: 2\n",
      "Online Backup: 2\n",
      "Device Protection Plan: 2\n",
      "Premium Tech Support: 2\n",
      "Streaming TV: 2\n",
      "Streaming Movies: 2\n",
      "Streaming Music: 2\n",
      "Unlimited Data: 2\n",
      "Contract: 3\n",
      "Paperless Billing: 2\n",
      "Payment Method: 3\n",
      "Customer Status: 3\n",
      "Churn Category: 5\n",
      "Churn Reason: 20\n"
     ]
    }
   ],
   "source": [
    "print('Cardinality by column:')\n",
    "print()\n",
    "\n",
    "for col in df.columns:\n",
    "    if df[col].dtype == 'object':\n",
    "        print(f'{col}: {df[col].nunique()}')"
   ]
  },
  {
   "cell_type": "code",
   "execution_count": 16,
   "id": "3907d8c1",
   "metadata": {},
   "outputs": [
    {
     "data": {
      "application/vnd.microsoft.datawrangler.viewer.v0+json": {
       "columns": [
        {
         "name": "index",
         "rawType": "int64",
         "type": "integer"
        },
        {
         "name": "Gender",
         "rawType": "object",
         "type": "string"
        },
        {
         "name": "Married",
         "rawType": "object",
         "type": "string"
        },
        {
         "name": "City",
         "rawType": "object",
         "type": "string"
        },
        {
         "name": "Offer",
         "rawType": "object",
         "type": "string"
        },
        {
         "name": "Phone Service",
         "rawType": "object",
         "type": "string"
        },
        {
         "name": "Multiple Lines",
         "rawType": "object",
         "type": "string"
        },
        {
         "name": "Internet Service",
         "rawType": "object",
         "type": "string"
        },
        {
         "name": "Internet Type",
         "rawType": "object",
         "type": "string"
        },
        {
         "name": "Online Security",
         "rawType": "object",
         "type": "string"
        },
        {
         "name": "Online Backup",
         "rawType": "object",
         "type": "string"
        },
        {
         "name": "Device Protection Plan",
         "rawType": "object",
         "type": "string"
        },
        {
         "name": "Premium Tech Support",
         "rawType": "object",
         "type": "string"
        },
        {
         "name": "Streaming TV",
         "rawType": "object",
         "type": "string"
        },
        {
         "name": "Streaming Movies",
         "rawType": "object",
         "type": "string"
        },
        {
         "name": "Streaming Music",
         "rawType": "object",
         "type": "string"
        },
        {
         "name": "Unlimited Data",
         "rawType": "object",
         "type": "string"
        },
        {
         "name": "Contract",
         "rawType": "object",
         "type": "string"
        },
        {
         "name": "Paperless Billing",
         "rawType": "object",
         "type": "string"
        },
        {
         "name": "Payment Method",
         "rawType": "object",
         "type": "string"
        },
        {
         "name": "Customer Status",
         "rawType": "object",
         "type": "string"
        },
        {
         "name": "Churn Category",
         "rawType": "object",
         "type": "string"
        },
        {
         "name": "Churn Reason",
         "rawType": "object",
         "type": "string"
        }
       ],
       "ref": "a22bc389-4322-4c4f-a24f-aee70da52dea",
       "rows": [
        [
         "0",
         "Female",
         "Yes",
         "Frazier Park",
         "IS NULL",
         "Yes",
         "No",
         "Yes",
         "Cable",
         "No",
         "Yes",
         "No",
         "Yes",
         "Yes",
         "No",
         "No",
         "Yes",
         "One Year",
         "Yes",
         "Credit Card",
         "Stayed",
         "IS NULL",
         "IS NULL"
        ],
        [
         "1",
         "Male",
         "No",
         "Glendale",
         "IS NULL",
         "Yes",
         "Yes",
         "Yes",
         "Cable",
         "No",
         "No",
         "No",
         "No",
         "No",
         "Yes",
         "Yes",
         "No",
         "Month-to-Month",
         "No",
         "Credit Card",
         "Stayed",
         "IS NULL",
         "IS NULL"
        ],
        [
         "2",
         "Male",
         "No",
         "Costa Mesa",
         "Offer E",
         "Yes",
         "No",
         "Yes",
         "Fiber Optic",
         "No",
         "No",
         "Yes",
         "No",
         "No",
         "No",
         "No",
         "Yes",
         "Month-to-Month",
         "Yes",
         "Bank Withdrawal",
         "Churned",
         "Competitor",
         "Competitor had better devices"
        ],
        [
         "3",
         "Male",
         "Yes",
         "Martinez",
         "Offer D",
         "Yes",
         "No",
         "Yes",
         "Fiber Optic",
         "No",
         "Yes",
         "Yes",
         "No",
         "Yes",
         "Yes",
         "No",
         "Yes",
         "Month-to-Month",
         "Yes",
         "Bank Withdrawal",
         "Churned",
         "Dissatisfaction",
         "Product dissatisfaction"
        ],
        [
         "4",
         "Female",
         "Yes",
         "Camarillo",
         "IS NULL",
         "Yes",
         "No",
         "Yes",
         "Fiber Optic",
         "No",
         "No",
         "No",
         "Yes",
         "Yes",
         "No",
         "No",
         "Yes",
         "Month-to-Month",
         "Yes",
         "Credit Card",
         "Churned",
         "Dissatisfaction",
         "Network reliability"
        ]
       ],
       "shape": {
        "columns": 22,
        "rows": 5
       }
      },
      "text/html": [
       "<div>\n",
       "<style scoped>\n",
       "    .dataframe tbody tr th:only-of-type {\n",
       "        vertical-align: middle;\n",
       "    }\n",
       "\n",
       "    .dataframe tbody tr th {\n",
       "        vertical-align: top;\n",
       "    }\n",
       "\n",
       "    .dataframe thead th {\n",
       "        text-align: right;\n",
       "    }\n",
       "</style>\n",
       "<table border=\"1\" class=\"dataframe\">\n",
       "  <thead>\n",
       "    <tr style=\"text-align: right;\">\n",
       "      <th></th>\n",
       "      <th>Gender</th>\n",
       "      <th>Married</th>\n",
       "      <th>City</th>\n",
       "      <th>Offer</th>\n",
       "      <th>Phone Service</th>\n",
       "      <th>Multiple Lines</th>\n",
       "      <th>Internet Service</th>\n",
       "      <th>Internet Type</th>\n",
       "      <th>Online Security</th>\n",
       "      <th>Online Backup</th>\n",
       "      <th>Device Protection Plan</th>\n",
       "      <th>Premium Tech Support</th>\n",
       "      <th>Streaming TV</th>\n",
       "      <th>Streaming Movies</th>\n",
       "      <th>Streaming Music</th>\n",
       "      <th>Unlimited Data</th>\n",
       "      <th>Contract</th>\n",
       "      <th>Paperless Billing</th>\n",
       "      <th>Payment Method</th>\n",
       "      <th>Customer Status</th>\n",
       "      <th>Churn Category</th>\n",
       "      <th>Churn Reason</th>\n",
       "    </tr>\n",
       "  </thead>\n",
       "  <tbody>\n",
       "    <tr>\n",
       "      <th>0</th>\n",
       "      <td>Female</td>\n",
       "      <td>Yes</td>\n",
       "      <td>Frazier Park</td>\n",
       "      <td>IS NULL</td>\n",
       "      <td>Yes</td>\n",
       "      <td>No</td>\n",
       "      <td>Yes</td>\n",
       "      <td>Cable</td>\n",
       "      <td>No</td>\n",
       "      <td>Yes</td>\n",
       "      <td>No</td>\n",
       "      <td>Yes</td>\n",
       "      <td>Yes</td>\n",
       "      <td>No</td>\n",
       "      <td>No</td>\n",
       "      <td>Yes</td>\n",
       "      <td>One Year</td>\n",
       "      <td>Yes</td>\n",
       "      <td>Credit Card</td>\n",
       "      <td>Stayed</td>\n",
       "      <td>IS NULL</td>\n",
       "      <td>IS NULL</td>\n",
       "    </tr>\n",
       "    <tr>\n",
       "      <th>1</th>\n",
       "      <td>Male</td>\n",
       "      <td>No</td>\n",
       "      <td>Glendale</td>\n",
       "      <td>IS NULL</td>\n",
       "      <td>Yes</td>\n",
       "      <td>Yes</td>\n",
       "      <td>Yes</td>\n",
       "      <td>Cable</td>\n",
       "      <td>No</td>\n",
       "      <td>No</td>\n",
       "      <td>No</td>\n",
       "      <td>No</td>\n",
       "      <td>No</td>\n",
       "      <td>Yes</td>\n",
       "      <td>Yes</td>\n",
       "      <td>No</td>\n",
       "      <td>Month-to-Month</td>\n",
       "      <td>No</td>\n",
       "      <td>Credit Card</td>\n",
       "      <td>Stayed</td>\n",
       "      <td>IS NULL</td>\n",
       "      <td>IS NULL</td>\n",
       "    </tr>\n",
       "    <tr>\n",
       "      <th>2</th>\n",
       "      <td>Male</td>\n",
       "      <td>No</td>\n",
       "      <td>Costa Mesa</td>\n",
       "      <td>Offer E</td>\n",
       "      <td>Yes</td>\n",
       "      <td>No</td>\n",
       "      <td>Yes</td>\n",
       "      <td>Fiber Optic</td>\n",
       "      <td>No</td>\n",
       "      <td>No</td>\n",
       "      <td>Yes</td>\n",
       "      <td>No</td>\n",
       "      <td>No</td>\n",
       "      <td>No</td>\n",
       "      <td>No</td>\n",
       "      <td>Yes</td>\n",
       "      <td>Month-to-Month</td>\n",
       "      <td>Yes</td>\n",
       "      <td>Bank Withdrawal</td>\n",
       "      <td>Churned</td>\n",
       "      <td>Competitor</td>\n",
       "      <td>Competitor had better devices</td>\n",
       "    </tr>\n",
       "    <tr>\n",
       "      <th>3</th>\n",
       "      <td>Male</td>\n",
       "      <td>Yes</td>\n",
       "      <td>Martinez</td>\n",
       "      <td>Offer D</td>\n",
       "      <td>Yes</td>\n",
       "      <td>No</td>\n",
       "      <td>Yes</td>\n",
       "      <td>Fiber Optic</td>\n",
       "      <td>No</td>\n",
       "      <td>Yes</td>\n",
       "      <td>Yes</td>\n",
       "      <td>No</td>\n",
       "      <td>Yes</td>\n",
       "      <td>Yes</td>\n",
       "      <td>No</td>\n",
       "      <td>Yes</td>\n",
       "      <td>Month-to-Month</td>\n",
       "      <td>Yes</td>\n",
       "      <td>Bank Withdrawal</td>\n",
       "      <td>Churned</td>\n",
       "      <td>Dissatisfaction</td>\n",
       "      <td>Product dissatisfaction</td>\n",
       "    </tr>\n",
       "    <tr>\n",
       "      <th>4</th>\n",
       "      <td>Female</td>\n",
       "      <td>Yes</td>\n",
       "      <td>Camarillo</td>\n",
       "      <td>IS NULL</td>\n",
       "      <td>Yes</td>\n",
       "      <td>No</td>\n",
       "      <td>Yes</td>\n",
       "      <td>Fiber Optic</td>\n",
       "      <td>No</td>\n",
       "      <td>No</td>\n",
       "      <td>No</td>\n",
       "      <td>Yes</td>\n",
       "      <td>Yes</td>\n",
       "      <td>No</td>\n",
       "      <td>No</td>\n",
       "      <td>Yes</td>\n",
       "      <td>Month-to-Month</td>\n",
       "      <td>Yes</td>\n",
       "      <td>Credit Card</td>\n",
       "      <td>Churned</td>\n",
       "      <td>Dissatisfaction</td>\n",
       "      <td>Network reliability</td>\n",
       "    </tr>\n",
       "  </tbody>\n",
       "</table>\n",
       "</div>"
      ],
      "text/plain": [
       "   Gender Married          City    Offer Phone Service Multiple Lines  \\\n",
       "0  Female     Yes  Frazier Park  IS NULL           Yes             No   \n",
       "1    Male      No      Glendale  IS NULL           Yes            Yes   \n",
       "2    Male      No    Costa Mesa  Offer E           Yes             No   \n",
       "3    Male     Yes      Martinez  Offer D           Yes             No   \n",
       "4  Female     Yes     Camarillo  IS NULL           Yes             No   \n",
       "\n",
       "  Internet Service Internet Type Online Security Online Backup  \\\n",
       "0              Yes         Cable              No           Yes   \n",
       "1              Yes         Cable              No            No   \n",
       "2              Yes   Fiber Optic              No            No   \n",
       "3              Yes   Fiber Optic              No           Yes   \n",
       "4              Yes   Fiber Optic              No            No   \n",
       "\n",
       "  Device Protection Plan Premium Tech Support Streaming TV Streaming Movies  \\\n",
       "0                     No                  Yes          Yes               No   \n",
       "1                     No                   No           No              Yes   \n",
       "2                    Yes                   No           No               No   \n",
       "3                    Yes                   No          Yes              Yes   \n",
       "4                     No                  Yes          Yes               No   \n",
       "\n",
       "  Streaming Music Unlimited Data        Contract Paperless Billing  \\\n",
       "0              No            Yes        One Year               Yes   \n",
       "1             Yes             No  Month-to-Month                No   \n",
       "2              No            Yes  Month-to-Month               Yes   \n",
       "3              No            Yes  Month-to-Month               Yes   \n",
       "4              No            Yes  Month-to-Month               Yes   \n",
       "\n",
       "    Payment Method Customer Status   Churn Category  \\\n",
       "0      Credit Card          Stayed          IS NULL   \n",
       "1      Credit Card          Stayed          IS NULL   \n",
       "2  Bank Withdrawal         Churned       Competitor   \n",
       "3  Bank Withdrawal         Churned  Dissatisfaction   \n",
       "4      Credit Card         Churned  Dissatisfaction   \n",
       "\n",
       "                    Churn Reason  \n",
       "0                        IS NULL  \n",
       "1                        IS NULL  \n",
       "2  Competitor had better devices  \n",
       "3        Product dissatisfaction  \n",
       "4            Network reliability  "
      ]
     },
     "execution_count": 16,
     "metadata": {},
     "output_type": "execute_result"
    }
   ],
   "source": [
    "# substituindo dados categóricos nulos\n",
    "for col in df.columns:\n",
    "    if df[col].dtype == 'object':\n",
    "        df[col] = df[col].fillna('IS NULL')\n",
    "\n",
    "df.select_dtypes('object').head()"
   ]
  },
  {
   "cell_type": "code",
   "execution_count": 17,
   "id": "e6e91e9b",
   "metadata": {},
   "outputs": [
    {
     "data": {
      "application/vnd.microsoft.datawrangler.viewer.v0+json": {
       "columns": [
        {
         "name": "index",
         "rawType": "object",
         "type": "string"
        },
        {
         "name": "0",
         "rawType": "int64",
         "type": "integer"
        }
       ],
       "ref": "e6f0e734-3bda-4f97-b2cf-b37b1b2b9cdd",
       "rows": [
        [
         "Age",
         "0"
        ],
        [
         "Number of Dependents",
         "0"
        ],
        [
         "Zip Code",
         "0"
        ],
        [
         "Latitude",
         "0"
        ],
        [
         "Longitude",
         "0"
        ],
        [
         "Number of Referrals",
         "0"
        ],
        [
         "Tenure in Months",
         "0"
        ],
        [
         "Avg Monthly Long Distance Charges",
         "682"
        ],
        [
         "Avg Monthly GB Download",
         "1526"
        ],
        [
         "Monthly Charge",
         "0"
        ],
        [
         "Total Charges",
         "0"
        ],
        [
         "Total Refunds",
         "0"
        ],
        [
         "Total Extra Data Charges",
         "0"
        ],
        [
         "Total Long Distance Charges",
         "0"
        ],
        [
         "Total Revenue",
         "0"
        ]
       ],
       "shape": {
        "columns": 1,
        "rows": 15
       }
      },
      "text/plain": [
       "Age                                     0\n",
       "Number of Dependents                    0\n",
       "Zip Code                                0\n",
       "Latitude                                0\n",
       "Longitude                               0\n",
       "Number of Referrals                     0\n",
       "Tenure in Months                        0\n",
       "Avg Monthly Long Distance Charges     682\n",
       "Avg Monthly GB Download              1526\n",
       "Monthly Charge                          0\n",
       "Total Charges                           0\n",
       "Total Refunds                           0\n",
       "Total Extra Data Charges                0\n",
       "Total Long Distance Charges             0\n",
       "Total Revenue                           0\n",
       "dtype: int64"
      ]
     },
     "execution_count": 17,
     "metadata": {},
     "output_type": "execute_result"
    }
   ],
   "source": [
    "df.select_dtypes('number').isna().sum()"
   ]
  },
  {
   "cell_type": "markdown",
   "id": "cd5d2cc8",
   "metadata": {},
   "source": [
    "---\n",
    "Agora a base pode ser utilizada para as análises."
   ]
  },
  {
   "cell_type": "markdown",
   "id": "488a6f85",
   "metadata": {},
   "source": [
    "# Salvando o dataframe em csv"
   ]
  },
  {
   "cell_type": "markdown",
   "id": "43cd6712",
   "metadata": {},
   "source": [
    "df.to_csv('../data_tables/starting_df.csv', index=False)"
   ]
  }
 ],
 "metadata": {
  "kernelspec": {
   "display_name": "mentoria_dados",
   "language": "python",
   "name": "python3"
  },
  "language_info": {
   "codemirror_mode": {
    "name": "ipython",
    "version": 3
   },
   "file_extension": ".py",
   "mimetype": "text/x-python",
   "name": "python",
   "nbconvert_exporter": "python",
   "pygments_lexer": "ipython3",
   "version": "3.13.5"
  }
 },
 "nbformat": 4,
 "nbformat_minor": 5
}
